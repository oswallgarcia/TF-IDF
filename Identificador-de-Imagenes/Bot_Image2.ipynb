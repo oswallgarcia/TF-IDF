{
  "nbformat": 4,
  "nbformat_minor": 0,
  "metadata": {
    "colab": {
      "provenance": [],
      "collapsed_sections": []
    },
    "kernelspec": {
      "name": "python3",
      "display_name": "Python 3"
    },
    "language_info": {
      "name": "python"
    }
  },
  "cells": [
    {
      "cell_type": "code",
      "metadata": {
        "id": "KwwpTIiScNo0"
      },
      "source": [
        "import nltk\n",
        "import numpy as np\n",
        "import random\n",
        "import string # to process standard python strings\n",
        "from sklearn.feature_extraction.text import TfidfVectorizer\n",
        "from sklearn.metrics.pairwise import cosine_similarity\n",
        "from keras.models import load_model\n",
        "from PIL import Image, ImageOps\n",
        "import os"
      ],
      "execution_count": null,
      "outputs": []
    },
    {
      "cell_type": "code",
      "metadata": {
        "colab": {
          "base_uri": "https://localhost:8080/"
        },
        "id": "kyfnliygcXMk",
        "outputId": "f16bcf3c-3fba-47c9-ea3a-123151964f83"
      },
      "source": [
        "# Load the model\n",
        "model = load_model('/content/drive/MyDrive/Modelo.h5')\n",
        "\n",
        "def predict_image(labels, image_to_predict):\n",
        "  # Create the array of the right shape to feed into the keras model\n",
        "  # The 'length' or number of images you can put into the array is\n",
        "  # determined by the first position in the shape tuple, in this case 1.\n",
        "  data = np.ndarray(shape=(1, 224, 224, 3), dtype=np.float32)\n",
        "  # Replace this with the path to your image\n",
        "  image = Image.open(image_to_predict)\n",
        "  #resize the image to a 224x224 with the same strategy as in TM2:\n",
        "  #resizing the image to be at least 224x224 and then cropping from the center\n",
        "  size = (224, 224)\n",
        "  image = ImageOps.fit(image, size, Image.ANTIALIAS)\n",
        "\n",
        "  #turn the image into a numpy array\n",
        "  image_array = np.asarray(image)\n",
        "  # Normalize the image\n",
        "  normalized_image_array = (image_array.astype(np.float32) / 127.0) - 1\n",
        "  # Load the image into the array\n",
        "  data[0] = normalized_image_array\n",
        "\n",
        "  # run the inference\n",
        "  prediction = model.predict(data)\n",
        "  return labels[prediction.argmax(axis=1)[0]]"
      ],
      "execution_count": null,
      "outputs": [
        {
          "output_type": "stream",
          "name": "stdout",
          "text": [
            "WARNING:tensorflow:No training configuration found in the save file, so the model was *not* compiled. Compile it manually.\n"
          ]
        }
      ]
    },
    {
      "cell_type": "code",
      "metadata": {
        "id": "cA_byiEvcdKU"
      },
      "source": [
        "labels = {0: 'Superman', 1: 'Aquaman', 2: 'Linterna Verde'}\n"
      ],
      "execution_count": null,
      "outputs": []
    },
    {
      "cell_type": "code",
      "metadata": {
        "id": "TyBeusUycfoj"
      },
      "source": [
        "GREETING_INPUTS = (\"hola\", \"que onda\", \"buenos dias\", \"buenas tardes\", \"que hay\",\"hey\", \"hello\",\"como estas\",\"que tal\",\"Adios\")\n",
        "GREETING_RESPONSES = [\"Hola\", \"Que onda\", \":D\", \"Hola amigo\", \"Que tal\", \"Un gusto saludarte\"]\n",
        "\n",
        "def greeting(sentence):\n",
        "    for word in sentence.split():\n",
        "        if word.lower() in GREETING_INPUTS:\n",
        "            return random.choice(GREETING_RESPONSES)\n",
        "            "
      ],
      "execution_count": null,
      "outputs": []
    },
    {
      "cell_type": "code",
      "metadata": {
        "id": "fvX3bJWv5HI8"
      },
      "source": [],
      "execution_count": null,
      "outputs": []
    },
    {
      "cell_type": "code",
      "metadata": {
        "colab": {
          "base_uri": "https://localhost:8080/"
        },
        "id": "EvFddaCIciJV",
        "outputId": "068a8976-9872-4510-9052-781583555665"
      },
      "source": [
        "flag=True\n",
        "print(\"Olark: ¡Hola! Me llamo Olark y te ayudare a identificar imagenes de superheroes, si quieres salir escribe 'salir'.\")\n",
        "\n",
        "while(flag==True):\n",
        "  user_response = input()\n",
        "  user_response=user_response.lower()\n",
        "  if(user_response!='salir'):\n",
        "    if(user_response=='gracias' or user_response=='grax' ):\n",
        "      flag=True\n",
        "      print(\"Olark: De nada.\")\n",
        "\n",
        "    elif(user_response ==\"quiero saber el personaje de una imagen\" or user_response ==\"puedes identificar a un personaje\" or user_response == \"podrias adivinar la imagen de un personaje\" or user_response == \"puedes detectar a un personaje\" or user_response == \"conoces a superman\" or user_response == \"conoces a linterna verde\" or user_response == \"conoces a aquaman\"):\n",
        "      flag=False\n",
        "      \n",
        "      imagen = input('Olark: Escribe el nombre de la imagen: ')\n",
        "      personaje = 0\n",
        "\n",
        "      carpeta = os.listdir('/content/drive/MyDrive/Datos de prueba/')\n",
        "      \n",
        "      for image2 in carpeta:\n",
        "\n",
        "          if image2 == imagen:\n",
        "            personaje = 1\n",
        "        \n",
        "      if personaje == 1:\n",
        "        print(\"El archivo exite\")     \n",
        "        ruta = '/content/drive/MyDrive/Datos de prueba/{}'.format(imagen)          \n",
        "        print(\"Olark: Tu personaje es: {}\".format(predict_image(labels, ruta)))\n",
        "        flag=True\n",
        "        \n",
        "\n",
        "      else: \n",
        "       print(\"El archivo '{}' no existe\".format(imagen))\n",
        " \n",
        "                        \n",
        "    else:\n",
        "      if(greeting(user_response)!=None):\n",
        "        print(\"Olark: \"+greeting(user_response))\n",
        "      else:\n",
        "        print(\"Olark: \",end=\"\")\n",
        "        print(response(user_response))\n",
        "        sent_tokens.remove(user_response)\n",
        "  else:\n",
        "    flag=False\n",
        "    print(\"Olark: ¡Adiós! Cuidate..\")"
      ],
      "execution_count": null,
      "outputs": [
        {
          "output_type": "stream",
          "name": "stdout",
          "text": [
            "Olark: ¡Hola! Me llamo Olark y te ayudare a identificar imagenes de superheroes, si quieres salir escribe 'salir'.\n",
            "hola\n",
            "Olark: Hola\n",
            "quiero saber el personaje de una imagen\n",
            "Olark: Escribe el nombre de la imagen: Superman3.jpg\n",
            "El archivo exite\n",
            "Olark: Tu personaje es: Superman\n",
            "puedes identificar a un personaje\n",
            "Olark: Escribe el nombre de la imagen: LV2.jpg\n",
            "El archivo exite\n",
            "Olark: Tu personaje es: Linterna Verde\n",
            "podrias adivinar la imgen de un personaje\n",
            "Olark: Escribe el nombre de la imagen: Desconocido.jpg\n",
            "El archivo 'Desconocido.jpg' no existe\n"
          ]
        }
      ]
    }
  ]
}